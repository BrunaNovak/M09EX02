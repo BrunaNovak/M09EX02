{
 "cells": [
  {
   "cell_type": "markdown",
   "metadata": {
    "id": "eYvCczy6lTt7"
   },
   "source": [
    "# Livro para consulta:\n",
    "- https://jakevdp.github.io/PythonDataScienceHandbook/03.08-aggregation-and-grouping.html\n",
    "- https://jakevdp.github.io/PythonDataScienceHandbook/03.09-pivot-tables.html\n",
    "    "
   ]
  },
  {
   "cell_type": "markdown",
   "metadata": {
    "id": "oeWprAfnlTt-"
   },
   "source": [
    "# 1. Importando bibliotecas <a name=\"import\"></a>\n",
    "\n",
    "<div style=\"text-align: right\"\n",
    "     \n",
    "[Voltar ao índice](#Contents)"
   ]
  },
  {
   "cell_type": "code",
   "execution_count": 1,
   "metadata": {
    "ExecuteTime": {
     "end_time": "2021-06-06T21:12:37.298706Z",
     "start_time": "2021-06-06T21:12:36.656481Z"
    },
    "id": "y_9gYudilTt_"
   },
   "outputs": [],
   "source": [
    "import numpy as np\n",
    "import pandas as pd\n",
    "import seaborn as sns\n",
    "import matplotlib.pyplot as plt\n",
    "\n",
    "%matplotlib inline"
   ]
  },
  {
   "cell_type": "code",
   "execution_count": null,
   "metadata": {
    "id": "1yNG4iFTlTuA"
   },
   "outputs": [],
   "source": []
  },
  {
   "cell_type": "markdown",
   "metadata": {
    "id": "-cpxC-IBlTuA"
   },
   "source": [
    "# 2. Carregando o dataframe SINASC <a name=\"read\"></a>\n",
    "<div style=\"text-align: right\"\n",
    "     \n",
    "[Voltar ao índice](#Contents)"
   ]
  },
  {
   "cell_type": "code",
   "execution_count": 2,
   "metadata": {
    "ExecuteTime": {
     "end_time": "2021-06-06T21:12:37.762376Z",
     "start_time": "2021-06-06T21:12:37.728383Z"
    },
    "id": "nQZn7u4DlTuB",
    "outputId": "74b44036-69d9-4139-b291-621d77ed331b",
    "scrolled": true
   },
   "outputs": [
    {
     "data": {
      "text/html": [
       "<div>\n",
       "<style scoped>\n",
       "    .dataframe tbody tr th:only-of-type {\n",
       "        vertical-align: middle;\n",
       "    }\n",
       "\n",
       "    .dataframe tbody tr th {\n",
       "        vertical-align: top;\n",
       "    }\n",
       "\n",
       "    .dataframe thead th {\n",
       "        text-align: right;\n",
       "    }\n",
       "</style>\n",
       "<table border=\"1\" class=\"dataframe\">\n",
       "  <thead>\n",
       "    <tr style=\"text-align: right;\">\n",
       "      <th></th>\n",
       "      <th>ORIGEM</th>\n",
       "      <th>CODESTAB</th>\n",
       "      <th>CODMUNNASC</th>\n",
       "      <th>LOCNASC</th>\n",
       "      <th>IDADEMAE</th>\n",
       "      <th>ESTCIVMAE</th>\n",
       "      <th>ESCMAE</th>\n",
       "      <th>CODOCUPMAE</th>\n",
       "      <th>QTDFILVIVO</th>\n",
       "      <th>QTDFILMORT</th>\n",
       "      <th>...</th>\n",
       "      <th>KOTELCHUCK</th>\n",
       "      <th>CONTADOR</th>\n",
       "      <th>munResStatus</th>\n",
       "      <th>munResTipo</th>\n",
       "      <th>munResNome</th>\n",
       "      <th>munResUf</th>\n",
       "      <th>munResLat</th>\n",
       "      <th>munResLon</th>\n",
       "      <th>munResAlt</th>\n",
       "      <th>munResArea</th>\n",
       "    </tr>\n",
       "  </thead>\n",
       "  <tbody>\n",
       "    <tr>\n",
       "      <th>0</th>\n",
       "      <td>1</td>\n",
       "      <td>2679477.0</td>\n",
       "      <td>110001</td>\n",
       "      <td>1</td>\n",
       "      <td>19</td>\n",
       "      <td>5.0</td>\n",
       "      <td>8 a 11 anos</td>\n",
       "      <td>NaN</td>\n",
       "      <td>0.0</td>\n",
       "      <td>0.0</td>\n",
       "      <td>...</td>\n",
       "      <td>5</td>\n",
       "      <td>1</td>\n",
       "      <td>ATIVO</td>\n",
       "      <td>MUNIC</td>\n",
       "      <td>Alta Floresta D'Oeste</td>\n",
       "      <td>Rondônia</td>\n",
       "      <td>-11.93554</td>\n",
       "      <td>-61.99982</td>\n",
       "      <td>338.0</td>\n",
       "      <td>7067.025</td>\n",
       "    </tr>\n",
       "    <tr>\n",
       "      <th>1</th>\n",
       "      <td>1</td>\n",
       "      <td>2679477.0</td>\n",
       "      <td>110001</td>\n",
       "      <td>1</td>\n",
       "      <td>29</td>\n",
       "      <td>2.0</td>\n",
       "      <td>8 a 11 anos</td>\n",
       "      <td>999992.0</td>\n",
       "      <td>1.0</td>\n",
       "      <td>0.0</td>\n",
       "      <td>...</td>\n",
       "      <td>5</td>\n",
       "      <td>2</td>\n",
       "      <td>ATIVO</td>\n",
       "      <td>MUNIC</td>\n",
       "      <td>Alta Floresta D'Oeste</td>\n",
       "      <td>Rondônia</td>\n",
       "      <td>-11.93554</td>\n",
       "      <td>-61.99982</td>\n",
       "      <td>338.0</td>\n",
       "      <td>7067.025</td>\n",
       "    </tr>\n",
       "    <tr>\n",
       "      <th>2</th>\n",
       "      <td>1</td>\n",
       "      <td>2679477.0</td>\n",
       "      <td>110001</td>\n",
       "      <td>1</td>\n",
       "      <td>37</td>\n",
       "      <td>9.0</td>\n",
       "      <td>8 a 11 anos</td>\n",
       "      <td>513205.0</td>\n",
       "      <td>2.0</td>\n",
       "      <td>0.0</td>\n",
       "      <td>...</td>\n",
       "      <td>5</td>\n",
       "      <td>3</td>\n",
       "      <td>ATIVO</td>\n",
       "      <td>MUNIC</td>\n",
       "      <td>Alta Floresta D'Oeste</td>\n",
       "      <td>Rondônia</td>\n",
       "      <td>-11.93554</td>\n",
       "      <td>-61.99982</td>\n",
       "      <td>338.0</td>\n",
       "      <td>7067.025</td>\n",
       "    </tr>\n",
       "    <tr>\n",
       "      <th>3</th>\n",
       "      <td>1</td>\n",
       "      <td>2516500.0</td>\n",
       "      <td>110001</td>\n",
       "      <td>1</td>\n",
       "      <td>30</td>\n",
       "      <td>5.0</td>\n",
       "      <td>12 anos ou mais</td>\n",
       "      <td>231205.0</td>\n",
       "      <td>0.0</td>\n",
       "      <td>0.0</td>\n",
       "      <td>...</td>\n",
       "      <td>4</td>\n",
       "      <td>4</td>\n",
       "      <td>ATIVO</td>\n",
       "      <td>MUNIC</td>\n",
       "      <td>Alto Alegre dos Parecis</td>\n",
       "      <td>Rondônia</td>\n",
       "      <td>-12.13178</td>\n",
       "      <td>-61.85308</td>\n",
       "      <td>397.0</td>\n",
       "      <td>3958.273</td>\n",
       "    </tr>\n",
       "    <tr>\n",
       "      <th>4</th>\n",
       "      <td>1</td>\n",
       "      <td>2516500.0</td>\n",
       "      <td>110001</td>\n",
       "      <td>1</td>\n",
       "      <td>30</td>\n",
       "      <td>2.0</td>\n",
       "      <td>8 a 11 anos</td>\n",
       "      <td>999992.0</td>\n",
       "      <td>1.0</td>\n",
       "      <td>0.0</td>\n",
       "      <td>...</td>\n",
       "      <td>5</td>\n",
       "      <td>5</td>\n",
       "      <td>ATIVO</td>\n",
       "      <td>MUNIC</td>\n",
       "      <td>Alta Floresta D'Oeste</td>\n",
       "      <td>Rondônia</td>\n",
       "      <td>-11.93554</td>\n",
       "      <td>-61.99982</td>\n",
       "      <td>338.0</td>\n",
       "      <td>7067.025</td>\n",
       "    </tr>\n",
       "  </tbody>\n",
       "</table>\n",
       "<p>5 rows × 69 columns</p>\n",
       "</div>"
      ],
      "text/plain": [
       "   ORIGEM   CODESTAB  CODMUNNASC  LOCNASC  IDADEMAE  ESTCIVMAE  \\\n",
       "0       1  2679477.0      110001        1        19        5.0   \n",
       "1       1  2679477.0      110001        1        29        2.0   \n",
       "2       1  2679477.0      110001        1        37        9.0   \n",
       "3       1  2516500.0      110001        1        30        5.0   \n",
       "4       1  2516500.0      110001        1        30        2.0   \n",
       "\n",
       "            ESCMAE  CODOCUPMAE  QTDFILVIVO  QTDFILMORT  ...  KOTELCHUCK  \\\n",
       "0      8 a 11 anos         NaN         0.0         0.0  ...           5   \n",
       "1      8 a 11 anos    999992.0         1.0         0.0  ...           5   \n",
       "2      8 a 11 anos    513205.0         2.0         0.0  ...           5   \n",
       "3  12 anos ou mais    231205.0         0.0         0.0  ...           4   \n",
       "4      8 a 11 anos    999992.0         1.0         0.0  ...           5   \n",
       "\n",
       "  CONTADOR munResStatus munResTipo               munResNome  munResUf  \\\n",
       "0        1        ATIVO      MUNIC    Alta Floresta D'Oeste  Rondônia   \n",
       "1        2        ATIVO      MUNIC    Alta Floresta D'Oeste  Rondônia   \n",
       "2        3        ATIVO      MUNIC    Alta Floresta D'Oeste  Rondônia   \n",
       "3        4        ATIVO      MUNIC  Alto Alegre dos Parecis  Rondônia   \n",
       "4        5        ATIVO      MUNIC    Alta Floresta D'Oeste  Rondônia   \n",
       "\n",
       "   munResLat munResLon  munResAlt  munResArea  \n",
       "0  -11.93554 -61.99982      338.0    7067.025  \n",
       "1  -11.93554 -61.99982      338.0    7067.025  \n",
       "2  -11.93554 -61.99982      338.0    7067.025  \n",
       "3  -12.13178 -61.85308      397.0    3958.273  \n",
       "4  -11.93554 -61.99982      338.0    7067.025  \n",
       "\n",
       "[5 rows x 69 columns]"
      ]
     },
     "execution_count": 2,
     "metadata": {},
     "output_type": "execute_result"
    }
   ],
   "source": [
    "sinasc_raw = pd.read_csv('SINASC_RO_2019.csv')\n",
    "sinasc_raw.head()"
   ]
  },
  {
   "cell_type": "code",
   "execution_count": null,
   "metadata": {
    "id": "Pz_6GorclTuC"
   },
   "outputs": [],
   "source": []
  },
  {
   "cell_type": "markdown",
   "metadata": {
    "id": "9GOoel3-lTuD"
   },
   "source": [
    "# Tarefa 2"
   ]
  },
  {
   "cell_type": "markdown",
   "metadata": {
    "id": "iNNeWswTlTuD"
   },
   "source": [
    "### 1. Crie 2 faixas de Latitude do município (munResLat) sendo uma acima e outra abaixo de -10.5 e aplique o groupby usando essas faixas como chave e realize operações de soma, media, minimo, maximo, mediana, desvio padrao, variancia pra pelo menos 2 variáveis numéricas ainda não utilizadas"
   ]
  },
  {
   "cell_type": "code",
   "execution_count": 3,
   "metadata": {
    "id": "HXtelNbnlTuE"
   },
   "outputs": [
    {
     "data": {
      "text/html": [
       "<div>\n",
       "<style scoped>\n",
       "    .dataframe tbody tr th:only-of-type {\n",
       "        vertical-align: middle;\n",
       "    }\n",
       "\n",
       "    .dataframe tbody tr th {\n",
       "        vertical-align: top;\n",
       "    }\n",
       "\n",
       "    .dataframe thead th {\n",
       "        text-align: right;\n",
       "    }\n",
       "</style>\n",
       "<table border=\"1\" class=\"dataframe\">\n",
       "  <thead>\n",
       "    <tr style=\"text-align: right;\">\n",
       "      <th></th>\n",
       "      <th>munResAlt</th>\n",
       "      <th>munResArea</th>\n",
       "      <th>munResLat</th>\n",
       "    </tr>\n",
       "  </thead>\n",
       "  <tbody>\n",
       "    <tr>\n",
       "      <th>0</th>\n",
       "      <td>338.0</td>\n",
       "      <td>7067.025</td>\n",
       "      <td>-11.93554</td>\n",
       "    </tr>\n",
       "    <tr>\n",
       "      <th>1</th>\n",
       "      <td>338.0</td>\n",
       "      <td>7067.025</td>\n",
       "      <td>-11.93554</td>\n",
       "    </tr>\n",
       "    <tr>\n",
       "      <th>2</th>\n",
       "      <td>338.0</td>\n",
       "      <td>7067.025</td>\n",
       "      <td>-11.93554</td>\n",
       "    </tr>\n",
       "    <tr>\n",
       "      <th>3</th>\n",
       "      <td>397.0</td>\n",
       "      <td>3958.273</td>\n",
       "      <td>-12.13178</td>\n",
       "    </tr>\n",
       "    <tr>\n",
       "      <th>4</th>\n",
       "      <td>338.0</td>\n",
       "      <td>7067.025</td>\n",
       "      <td>-11.93554</td>\n",
       "    </tr>\n",
       "  </tbody>\n",
       "</table>\n",
       "</div>"
      ],
      "text/plain": [
       "   munResAlt  munResArea  munResLat\n",
       "0      338.0    7067.025  -11.93554\n",
       "1      338.0    7067.025  -11.93554\n",
       "2      338.0    7067.025  -11.93554\n",
       "3      397.0    3958.273  -12.13178\n",
       "4      338.0    7067.025  -11.93554"
      ]
     },
     "execution_count": 3,
     "metadata": {},
     "output_type": "execute_result"
    }
   ],
   "source": [
    "sinasc_1 = sinasc_raw[['munResAlt', 'munResArea','munResLat']]\n",
    "sinasc_1.head()"
   ]
  },
  {
   "cell_type": "code",
   "execution_count": 4,
   "metadata": {},
   "outputs": [
    {
     "name": "stderr",
     "output_type": "stream",
     "text": [
      "C:\\Users\\bruna\\AppData\\Local\\Temp\\ipykernel_27048\\3354995482.py:1: SettingWithCopyWarning: \n",
      "A value is trying to be set on a copy of a slice from a DataFrame.\n",
      "Try using .loc[row_indexer,col_indexer] = value instead\n",
      "\n",
      "See the caveats in the documentation: https://pandas.pydata.org/pandas-docs/stable/user_guide/indexing.html#returning-a-view-versus-a-copy\n",
      "  sinasc_1['faixas'] = sinasc_1['munResLat'].apply(lambda x: 'Acima de -10.5' if x > -10.5 else 'Abaixo de -10.5')\n"
     ]
    }
   ],
   "source": [
    "sinasc_1['faixas'] = sinasc_1['munResLat'].apply(lambda x: 'Acima de -10.5' if x > -10.5 else 'Abaixo de -10.5')"
   ]
  },
  {
   "cell_type": "code",
   "execution_count": 5,
   "metadata": {},
   "outputs": [
    {
     "data": {
      "text/html": [
       "<div>\n",
       "<style scoped>\n",
       "    .dataframe tbody tr th:only-of-type {\n",
       "        vertical-align: middle;\n",
       "    }\n",
       "\n",
       "    .dataframe tbody tr th {\n",
       "        vertical-align: top;\n",
       "    }\n",
       "\n",
       "    .dataframe thead tr th {\n",
       "        text-align: left;\n",
       "    }\n",
       "\n",
       "    .dataframe thead tr:last-of-type th {\n",
       "        text-align: right;\n",
       "    }\n",
       "</style>\n",
       "<table border=\"1\" class=\"dataframe\">\n",
       "  <thead>\n",
       "    <tr>\n",
       "      <th></th>\n",
       "      <th colspan=\"7\" halign=\"left\">munResAlt</th>\n",
       "      <th colspan=\"7\" halign=\"left\">munResArea</th>\n",
       "    </tr>\n",
       "    <tr>\n",
       "      <th></th>\n",
       "      <th>sum</th>\n",
       "      <th>mean</th>\n",
       "      <th>min</th>\n",
       "      <th>max</th>\n",
       "      <th>median</th>\n",
       "      <th>std</th>\n",
       "      <th>var</th>\n",
       "      <th>sum</th>\n",
       "      <th>mean</th>\n",
       "      <th>min</th>\n",
       "      <th>max</th>\n",
       "      <th>median</th>\n",
       "      <th>std</th>\n",
       "      <th>var</th>\n",
       "    </tr>\n",
       "    <tr>\n",
       "      <th>faixas</th>\n",
       "      <th></th>\n",
       "      <th></th>\n",
       "      <th></th>\n",
       "      <th></th>\n",
       "      <th></th>\n",
       "      <th></th>\n",
       "      <th></th>\n",
       "      <th></th>\n",
       "      <th></th>\n",
       "      <th></th>\n",
       "      <th></th>\n",
       "      <th></th>\n",
       "      <th></th>\n",
       "      <th></th>\n",
       "    </tr>\n",
       "  </thead>\n",
       "  <tbody>\n",
       "    <tr>\n",
       "      <th>Abaixo de -10.5</th>\n",
       "      <td>3310445.0</td>\n",
       "      <td>254.786808</td>\n",
       "      <td>133.0</td>\n",
       "      <td>595.0</td>\n",
       "      <td>191.0</td>\n",
       "      <td>139.771518</td>\n",
       "      <td>19536.077237</td>\n",
       "      <td>8.360143e+07</td>\n",
       "      <td>6434.344207</td>\n",
       "      <td>459.978</td>\n",
       "      <td>24855.724</td>\n",
       "      <td>5067.384</td>\n",
       "      <td>5688.822159</td>\n",
       "      <td>3.236270e+07</td>\n",
       "    </tr>\n",
       "    <tr>\n",
       "      <th>Acima de -10.5</th>\n",
       "      <td>1530415.0</td>\n",
       "      <td>109.050520</td>\n",
       "      <td>85.0</td>\n",
       "      <td>192.0</td>\n",
       "      <td>87.0</td>\n",
       "      <td>30.071422</td>\n",
       "      <td>904.290400</td>\n",
       "      <td>3.137711e+08</td>\n",
       "      <td>22357.926110</td>\n",
       "      <td>965.676</td>\n",
       "      <td>34096.394</td>\n",
       "      <td>34096.394</td>\n",
       "      <td>14488.909375</td>\n",
       "      <td>2.099285e+08</td>\n",
       "    </tr>\n",
       "  </tbody>\n",
       "</table>\n",
       "</div>"
      ],
      "text/plain": [
       "                 munResAlt                                               \\\n",
       "                       sum        mean    min    max median         std   \n",
       "faixas                                                                    \n",
       "Abaixo de -10.5  3310445.0  254.786808  133.0  595.0  191.0  139.771518   \n",
       "Acima de -10.5   1530415.0  109.050520   85.0  192.0   87.0   30.071422   \n",
       "\n",
       "                                 munResArea                                    \\\n",
       "                          var           sum          mean      min        max   \n",
       "faixas                                                                          \n",
       "Abaixo de -10.5  19536.077237  8.360143e+07   6434.344207  459.978  24855.724   \n",
       "Acima de -10.5     904.290400  3.137711e+08  22357.926110  965.676  34096.394   \n",
       "\n",
       "                                                        \n",
       "                    median           std           var  \n",
       "faixas                                                  \n",
       "Abaixo de -10.5   5067.384   5688.822159  3.236270e+07  \n",
       "Acima de -10.5   34096.394  14488.909375  2.099285e+08  "
      ]
     },
     "execution_count": 5,
     "metadata": {},
     "output_type": "execute_result"
    }
   ],
   "source": [
    "tarefa_1 = sinasc_1.groupby('faixas').agg({\n",
    "    'munResAlt': ['sum', 'mean', 'min', 'max', 'median', 'std', 'var'],\n",
    "    'munResArea': ['sum', 'mean', 'min', 'max', 'median', 'std', 'var']\n",
    "})\n",
    "tarefa_1"
   ]
  },
  {
   "cell_type": "markdown",
   "metadata": {
    "id": "AK33D0mdlTuE"
   },
   "source": [
    "### 2. Crie 2 faixas da área dos municípios (munResArea) sendo uma acima e outra abaixo de 3000 e aplique o groupby usando essas faixas como chave e realize operações de soma, media, minimo, maximo, mediana, desvio padrao, variancia pra pelo menos 2 variáveis numéricas ainda não utilizadas\n"
   ]
  },
  {
   "cell_type": "code",
   "execution_count": 7,
   "metadata": {
    "id": "qqCXJtYIlTuE"
   },
   "outputs": [
    {
     "data": {
      "text/html": [
       "<div>\n",
       "<style scoped>\n",
       "    .dataframe tbody tr th:only-of-type {\n",
       "        vertical-align: middle;\n",
       "    }\n",
       "\n",
       "    .dataframe tbody tr th {\n",
       "        vertical-align: top;\n",
       "    }\n",
       "\n",
       "    .dataframe thead th {\n",
       "        text-align: right;\n",
       "    }\n",
       "</style>\n",
       "<table border=\"1\" class=\"dataframe\">\n",
       "  <thead>\n",
       "    <tr style=\"text-align: right;\">\n",
       "      <th></th>\n",
       "      <th>munResArea</th>\n",
       "      <th>APGAR5</th>\n",
       "      <th>NATURALMAE</th>\n",
       "    </tr>\n",
       "  </thead>\n",
       "  <tbody>\n",
       "    <tr>\n",
       "      <th>0</th>\n",
       "      <td>7067.025</td>\n",
       "      <td>10.0</td>\n",
       "      <td>811.0</td>\n",
       "    </tr>\n",
       "    <tr>\n",
       "      <th>1</th>\n",
       "      <td>7067.025</td>\n",
       "      <td>9.0</td>\n",
       "      <td>811.0</td>\n",
       "    </tr>\n",
       "    <tr>\n",
       "      <th>2</th>\n",
       "      <td>7067.025</td>\n",
       "      <td>10.0</td>\n",
       "      <td>841.0</td>\n",
       "    </tr>\n",
       "    <tr>\n",
       "      <th>3</th>\n",
       "      <td>3958.273</td>\n",
       "      <td>10.0</td>\n",
       "      <td>841.0</td>\n",
       "    </tr>\n",
       "    <tr>\n",
       "      <th>4</th>\n",
       "      <td>7067.025</td>\n",
       "      <td>10.0</td>\n",
       "      <td>811.0</td>\n",
       "    </tr>\n",
       "    <tr>\n",
       "      <th>...</th>\n",
       "      <td>...</td>\n",
       "      <td>...</td>\n",
       "      <td>...</td>\n",
       "    </tr>\n",
       "    <tr>\n",
       "      <th>27023</th>\n",
       "      <td>11518.915</td>\n",
       "      <td>9.0</td>\n",
       "      <td>825.0</td>\n",
       "    </tr>\n",
       "    <tr>\n",
       "      <th>27024</th>\n",
       "      <td>5126.723</td>\n",
       "      <td>9.0</td>\n",
       "      <td>811.0</td>\n",
       "    </tr>\n",
       "    <tr>\n",
       "      <th>27025</th>\n",
       "      <td>11518.915</td>\n",
       "      <td>10.0</td>\n",
       "      <td>811.0</td>\n",
       "    </tr>\n",
       "    <tr>\n",
       "      <th>27026</th>\n",
       "      <td>11518.915</td>\n",
       "      <td>9.0</td>\n",
       "      <td>811.0</td>\n",
       "    </tr>\n",
       "    <tr>\n",
       "      <th>27027</th>\n",
       "      <td>843.446</td>\n",
       "      <td>8.0</td>\n",
       "      <td>811.0</td>\n",
       "    </tr>\n",
       "  </tbody>\n",
       "</table>\n",
       "<p>27028 rows × 3 columns</p>\n",
       "</div>"
      ],
      "text/plain": [
       "       munResArea  APGAR5  NATURALMAE\n",
       "0        7067.025    10.0       811.0\n",
       "1        7067.025     9.0       811.0\n",
       "2        7067.025    10.0       841.0\n",
       "3        3958.273    10.0       841.0\n",
       "4        7067.025    10.0       811.0\n",
       "...           ...     ...         ...\n",
       "27023   11518.915     9.0       825.0\n",
       "27024    5126.723     9.0       811.0\n",
       "27025   11518.915    10.0       811.0\n",
       "27026   11518.915     9.0       811.0\n",
       "27027     843.446     8.0       811.0\n",
       "\n",
       "[27028 rows x 3 columns]"
      ]
     },
     "execution_count": 7,
     "metadata": {},
     "output_type": "execute_result"
    }
   ],
   "source": [
    "sinasc_2 = sinasc_raw[['munResArea','APGAR5', 'NATURALMAE']]\n",
    "sinasc_2"
   ]
  },
  {
   "cell_type": "code",
   "execution_count": 8,
   "metadata": {},
   "outputs": [
    {
     "name": "stderr",
     "output_type": "stream",
     "text": [
      "C:\\Users\\bruna\\AppData\\Local\\Temp\\ipykernel_27048\\3457438687.py:1: SettingWithCopyWarning: \n",
      "A value is trying to be set on a copy of a slice from a DataFrame.\n",
      "Try using .loc[row_indexer,col_indexer] = value instead\n",
      "\n",
      "See the caveats in the documentation: https://pandas.pydata.org/pandas-docs/stable/user_guide/indexing.html#returning-a-view-versus-a-copy\n",
      "  sinasc_2['faixas'] = sinasc_2['munResArea'].apply(lambda x: 'Acima de 3000' if x > -3000 else 'Abaixo de 3000')\n"
     ]
    },
    {
     "data": {
      "text/plain": [
       "0        Acima de 3000\n",
       "1        Acima de 3000\n",
       "2        Acima de 3000\n",
       "3        Acima de 3000\n",
       "4        Acima de 3000\n",
       "             ...      \n",
       "27023    Acima de 3000\n",
       "27024    Acima de 3000\n",
       "27025    Acima de 3000\n",
       "27026    Acima de 3000\n",
       "27027    Acima de 3000\n",
       "Name: faixas, Length: 27028, dtype: object"
      ]
     },
     "execution_count": 8,
     "metadata": {},
     "output_type": "execute_result"
    }
   ],
   "source": [
    "sinasc_2['faixas'] = sinasc_2['munResArea'].apply(lambda x: 'Acima de 3000' if x > -3000 else 'Abaixo de 3000')\n",
    "sinasc_2['faixas']"
   ]
  },
  {
   "cell_type": "code",
   "execution_count": 9,
   "metadata": {},
   "outputs": [
    {
     "data": {
      "text/html": [
       "<div>\n",
       "<style scoped>\n",
       "    .dataframe tbody tr th:only-of-type {\n",
       "        vertical-align: middle;\n",
       "    }\n",
       "\n",
       "    .dataframe tbody tr th {\n",
       "        vertical-align: top;\n",
       "    }\n",
       "\n",
       "    .dataframe thead tr th {\n",
       "        text-align: left;\n",
       "    }\n",
       "\n",
       "    .dataframe thead tr:last-of-type th {\n",
       "        text-align: right;\n",
       "    }\n",
       "</style>\n",
       "<table border=\"1\" class=\"dataframe\">\n",
       "  <thead>\n",
       "    <tr>\n",
       "      <th></th>\n",
       "      <th colspan=\"7\" halign=\"left\">APGAR5</th>\n",
       "      <th colspan=\"7\" halign=\"left\">NATURALMAE</th>\n",
       "    </tr>\n",
       "    <tr>\n",
       "      <th></th>\n",
       "      <th>sum</th>\n",
       "      <th>mean</th>\n",
       "      <th>min</th>\n",
       "      <th>max</th>\n",
       "      <th>median</th>\n",
       "      <th>std</th>\n",
       "      <th>var</th>\n",
       "      <th>sum</th>\n",
       "      <th>mean</th>\n",
       "      <th>min</th>\n",
       "      <th>max</th>\n",
       "      <th>median</th>\n",
       "      <th>std</th>\n",
       "      <th>var</th>\n",
       "    </tr>\n",
       "    <tr>\n",
       "      <th>faixas</th>\n",
       "      <th></th>\n",
       "      <th></th>\n",
       "      <th></th>\n",
       "      <th></th>\n",
       "      <th></th>\n",
       "      <th></th>\n",
       "      <th></th>\n",
       "      <th></th>\n",
       "      <th></th>\n",
       "      <th></th>\n",
       "      <th></th>\n",
       "      <th></th>\n",
       "      <th></th>\n",
       "      <th></th>\n",
       "    </tr>\n",
       "  </thead>\n",
       "  <tbody>\n",
       "    <tr>\n",
       "      <th>Abaixo de 3000</th>\n",
       "      <td>10.0</td>\n",
       "      <td>10.000000</td>\n",
       "      <td>10.0</td>\n",
       "      <td>10.0</td>\n",
       "      <td>10.0</td>\n",
       "      <td>NaN</td>\n",
       "      <td>NaN</td>\n",
       "      <td>0.0</td>\n",
       "      <td>NaN</td>\n",
       "      <td>NaN</td>\n",
       "      <td>NaN</td>\n",
       "      <td>NaN</td>\n",
       "      <td>NaN</td>\n",
       "      <td>NaN</td>\n",
       "    </tr>\n",
       "    <tr>\n",
       "      <th>Acima de 3000</th>\n",
       "      <td>247139.0</td>\n",
       "      <td>9.179134</td>\n",
       "      <td>0.0</td>\n",
       "      <td>10.0</td>\n",
       "      <td>9.0</td>\n",
       "      <td>0.790573</td>\n",
       "      <td>0.625006</td>\n",
       "      <td>21782780.0</td>\n",
       "      <td>814.918818</td>\n",
       "      <td>811.0</td>\n",
       "      <td>853.0</td>\n",
       "      <td>811.0</td>\n",
       "      <td>9.892395</td>\n",
       "      <td>97.859472</td>\n",
       "    </tr>\n",
       "  </tbody>\n",
       "</table>\n",
       "</div>"
      ],
      "text/plain": [
       "                  APGAR5                                                    \\\n",
       "                     sum       mean   min   max median       std       var   \n",
       "faixas                                                                       \n",
       "Abaixo de 3000      10.0  10.000000  10.0  10.0   10.0       NaN       NaN   \n",
       "Acima de 3000   247139.0   9.179134   0.0  10.0    9.0  0.790573  0.625006   \n",
       "\n",
       "                NATURALMAE                                             \\\n",
       "                       sum        mean    min    max median       std   \n",
       "faixas                                                                  \n",
       "Abaixo de 3000         0.0         NaN    NaN    NaN    NaN       NaN   \n",
       "Acima de 3000   21782780.0  814.918818  811.0  853.0  811.0  9.892395   \n",
       "\n",
       "                           \n",
       "                      var  \n",
       "faixas                     \n",
       "Abaixo de 3000        NaN  \n",
       "Acima de 3000   97.859472  "
      ]
     },
     "execution_count": 9,
     "metadata": {},
     "output_type": "execute_result"
    }
   ],
   "source": [
    "tarefa_2 = sinasc_2.groupby('faixas').agg({\n",
    "    'APGAR5': ['sum', 'mean', 'min', 'max', 'median', 'std', 'var'],\n",
    "    'NATURALMAE': ['sum', 'mean', 'min', 'max', 'median', 'std', 'var']\n",
    "})\n",
    "tarefa_2"
   ]
  },
  {
   "cell_type": "markdown",
   "metadata": {
    "id": "aWaljnnxlTuE"
   },
   "source": [
    "### 3. Determine faixas na variável munResAlt e aplique o groupby usando essas faixas como chave e realize operações de soma, media, minimo, maximo, mediana, desvio padrao, variancia pra pelo menos 2 variáveis numéricas ainda não utilizadas"
   ]
  },
  {
   "cell_type": "code",
   "execution_count": 10,
   "metadata": {},
   "outputs": [
    {
     "name": "stdout",
     "output_type": "stream",
     "text": [
      "85.0\n",
      "595.0\n"
     ]
    }
   ],
   "source": [
    "print(sinasc_raw['munResAlt'].min())\n",
    "print(sinasc_raw['munResAlt'].max())"
   ]
  },
  {
   "cell_type": "code",
   "execution_count": 11,
   "metadata": {},
   "outputs": [
    {
     "data": {
      "text/plain": [
       "382.5"
      ]
     },
     "execution_count": 11,
     "metadata": {},
     "output_type": "execute_result"
    }
   ],
   "source": [
    "85.0 + 595.0 / 2"
   ]
  },
  {
   "cell_type": "code",
   "execution_count": 13,
   "metadata": {},
   "outputs": [],
   "source": [
    "sinasc_4 = sinasc_raw[['munResAlt']]"
   ]
  },
  {
   "cell_type": "code",
   "execution_count": 14,
   "metadata": {},
   "outputs": [
    {
     "name": "stderr",
     "output_type": "stream",
     "text": [
      "C:\\Users\\bruna\\AppData\\Local\\Temp\\ipykernel_27048\\814492006.py:1: SettingWithCopyWarning: \n",
      "A value is trying to be set on a copy of a slice from a DataFrame.\n",
      "Try using .loc[row_indexer,col_indexer] = value instead\n",
      "\n",
      "See the caveats in the documentation: https://pandas.pydata.org/pandas-docs/stable/user_guide/indexing.html#returning-a-view-versus-a-copy\n",
      "  sinasc_4['faixas'] = sinasc_4['munResAlt'].apply(lambda x: 'Acima da média' if x > 382 else ' Abaixo da média')\n"
     ]
    },
    {
     "data": {
      "text/plain": [
       "0         Abaixo da média\n",
       "1         Abaixo da média\n",
       "2         Abaixo da média\n",
       "3          Acima da média\n",
       "4         Abaixo da média\n",
       "               ...       \n",
       "27023      Acima da média\n",
       "27024     Abaixo da média\n",
       "27025      Acima da média\n",
       "27026      Acima da média\n",
       "27027     Abaixo da média\n",
       "Name: faixas, Length: 27028, dtype: object"
      ]
     },
     "execution_count": 14,
     "metadata": {},
     "output_type": "execute_result"
    }
   ],
   "source": [
    "sinasc_4['faixas'] = sinasc_4['munResAlt'].apply(lambda x: 'Acima da média' if x > 382 else ' Abaixo da média')\n",
    "sinasc_4['faixas']"
   ]
  },
  {
   "cell_type": "code",
   "execution_count": 15,
   "metadata": {},
   "outputs": [
    {
     "data": {
      "text/html": [
       "<div>\n",
       "<style scoped>\n",
       "    .dataframe tbody tr th:only-of-type {\n",
       "        vertical-align: middle;\n",
       "    }\n",
       "\n",
       "    .dataframe tbody tr th {\n",
       "        vertical-align: top;\n",
       "    }\n",
       "\n",
       "    .dataframe thead tr th {\n",
       "        text-align: left;\n",
       "    }\n",
       "\n",
       "    .dataframe thead tr:last-of-type th {\n",
       "        text-align: right;\n",
       "    }\n",
       "</style>\n",
       "<table border=\"1\" class=\"dataframe\">\n",
       "  <thead>\n",
       "    <tr>\n",
       "      <th></th>\n",
       "      <th colspan=\"7\" halign=\"left\">munResAlt</th>\n",
       "    </tr>\n",
       "    <tr>\n",
       "      <th></th>\n",
       "      <th>std</th>\n",
       "      <th>sum</th>\n",
       "      <th>min</th>\n",
       "      <th>max</th>\n",
       "      <th>median</th>\n",
       "      <th>var</th>\n",
       "      <th>mean</th>\n",
       "    </tr>\n",
       "    <tr>\n",
       "      <th>faixas</th>\n",
       "      <th></th>\n",
       "      <th></th>\n",
       "      <th></th>\n",
       "      <th></th>\n",
       "      <th></th>\n",
       "      <th></th>\n",
       "      <th></th>\n",
       "    </tr>\n",
       "  </thead>\n",
       "  <tbody>\n",
       "    <tr>\n",
       "      <th>Abaixo da média</th>\n",
       "      <td>60.893087</td>\n",
       "      <td>3744006.0</td>\n",
       "      <td>85.0</td>\n",
       "      <td>340.0</td>\n",
       "      <td>145.0</td>\n",
       "      <td>3707.968101</td>\n",
       "      <td>149.348039</td>\n",
       "    </tr>\n",
       "    <tr>\n",
       "      <th>Acima da média</th>\n",
       "      <td>72.525923</td>\n",
       "      <td>1096854.0</td>\n",
       "      <td>397.0</td>\n",
       "      <td>595.0</td>\n",
       "      <td>595.0</td>\n",
       "      <td>5260.009485</td>\n",
       "      <td>560.191011</td>\n",
       "    </tr>\n",
       "  </tbody>\n",
       "</table>\n",
       "</div>"
      ],
      "text/plain": [
       "                  munResAlt                                               \\\n",
       "                        std        sum    min    max median          var   \n",
       "faixas                                                                     \n",
       " Abaixo da média  60.893087  3744006.0   85.0  340.0  145.0  3707.968101   \n",
       "Acima da média    72.525923  1096854.0  397.0  595.0  595.0  5260.009485   \n",
       "\n",
       "                              \n",
       "                        mean  \n",
       "faixas                        \n",
       " Abaixo da média  149.348039  \n",
       "Acima da média    560.191011  "
      ]
     },
     "execution_count": 15,
     "metadata": {},
     "output_type": "execute_result"
    }
   ],
   "source": [
    "tarefa_3 = sinasc_4.groupby('faixas').agg({'sum', 'mean', 'min', 'max', 'median', 'std', 'var'})\n",
    "tarefa_3"
   ]
  },
  {
   "cell_type": "markdown",
   "metadata": {
    "id": "aF1riawJlTuF"
   },
   "source": [
    "### 4. Plote no mesmo grafico ao longo do tempo a idade media das mulheres de cada regiao imediatas de rondonia\n"
   ]
  },
  {
   "cell_type": "code",
   "execution_count": 16,
   "metadata": {},
   "outputs": [],
   "source": [
    "sinasc_5 = sinasc_raw[['IDADEMAE']]"
   ]
  },
  {
   "cell_type": "code",
   "execution_count": 18,
   "metadata": {
    "id": "6aZM5xKale9c"
   },
   "outputs": [],
   "source": [
    "imediatas = {\n",
    "    \"Candeias do Jamari\": \"Porto Velho\",\n",
    "    \"Guajará-Mirim\": \"Porto Velho\",\n",
    "    \"Itapuã do Oeste\": \"Porto Velho\",\n",
    "    \"Nova Mamoré\": \"Porto Velho\",\n",
    "    \"Porto Velho\": \"Porto Velho\",\n",
    "    \"Ariquemes\": \"Ariquemes\",\n",
    "    \"Alto Paraíso\": \"Ariquemes\",\n",
    "    \"Buritis\": \"Ariquemes\",\n",
    "    \"Cacaulândia\": \"Ariquemes\",\n",
    "    \"Campo Novo de Rondônia\": \"Ariquemes\",\n",
    "    \"Cujubim\": \"Ariquemes\",\n",
    "    \"Monte Negro\": \"Ariquemes\",\n",
    "    \"Rio Crespo\": \"Ariquemes\",\n",
    "    \"Jaru\": \"Jaru\",\n",
    "    \"Governador Jorge Teixeira\": \"Jaru\",\n",
    "    \"Machadinho D'Oeste\": \"Jaru\",\n",
    "    \"Theobroma\": \"Jaru\",\n",
    "    \"Vale do Anari\": \"Jaru\",\n",
    "    \"Alvorada D'Oeste\": \"Ji-Paraná\",\n",
    "    \"Costa Marques\": \"Ji-Paraná\",\n",
    "    \"Ji-Paraná\": \"Ji-Paraná\",\n",
    "    \"Mirante da Serra\": \"Ji-Paraná\",\n",
    "    \"Nova União\": \"Ji-Paraná\",\n",
    "    \"Ouro Preto do Oeste\": \"Ji-Paraná\",\n",
    "    \"Presidente Médici\": \"Ji-Paraná\",\n",
    "    \"São Francisco do Guaporé\": \"Ji-Paraná\",\n",
    "    \"São Miguel do Guaporé\": \"Ji-Paraná\",\n",
    "    \"Seringueiras\": \"Ji-Paraná\",\n",
    "    \"Teixeirópolis\": \"Ji-Paraná\",\n",
    "    \"Urupá\": \"Ji-Paraná\",\n",
    "    \"Vale do Paraíso\": \"Ji-Paraná\",\n",
    "    \"Cacoal\": \"Cacoal\",\n",
    "    \"Alta Floresta D'Oeste\": \"Cacoal\",\n",
    "    \"Alto Alegre dos Parecis\": \"Cacoal\",\n",
    "    \"Castanheiras\": \"Cacoal\",\n",
    "    \"Espigão D'Oeste\": \"Cacoal\",\n",
    "    \"Ministro Andreazza\": \"Cacoal\",\n",
    "    \"Nova Brasilândia D'Oeste\": \"Cacoal\",\n",
    "    \"Novo Horizonte do Oeste\": \"Cacoal\",\n",
    "    \"Parecis\": \"Cacoal\",\n",
    "    \"Pimenta Bueno\": \"Cacoal\",\n",
    "    \"Primavera de Rondônia\": \"Cacoal\",\n",
    "    \"Rolim de Moura\": \"Cacoal\",\n",
    "    \"Santa Luzia D'Oeste\": \"Cacoal\",\n",
    "    \"São Felipe D'Oeste\": \"Cacoal\",\n",
    "    \"Vilhena\": \"Vilhena\",\n",
    "    \"Cabixi\": \"Vilhena\",\n",
    "    \"Cerejeiras\": \"Vilhena\",\n",
    "    \"Chupinguaia\": \"Vilhena\",\n",
    "    \"Colorado do Oeste\": \"Vilhena\",\n",
    "    \"Corumbiara\": \"Vilhena\",\n",
    "    \"Pimenteiras do Oeste\": \"Vilhena\"\n",
    "}"
   ]
  },
  {
   "cell_type": "code",
   "execution_count": 19,
   "metadata": {},
   "outputs": [
    {
     "name": "stderr",
     "output_type": "stream",
     "text": [
      "C:\\Users\\bruna\\AppData\\Local\\Temp\\ipykernel_27048\\2344924931.py:1: SettingWithCopyWarning: \n",
      "A value is trying to be set on a copy of a slice from a DataFrame.\n",
      "Try using .loc[row_indexer,col_indexer] = value instead\n",
      "\n",
      "See the caveats in the documentation: https://pandas.pydata.org/pandas-docs/stable/user_guide/indexing.html#returning-a-view-versus-a-copy\n",
      "  sinasc_5['regiao_imediata'] = sinasc_raw['munResNome'].map(imediatas)\n"
     ]
    },
    {
     "data": {
      "text/html": [
       "<div>\n",
       "<style scoped>\n",
       "    .dataframe tbody tr th:only-of-type {\n",
       "        vertical-align: middle;\n",
       "    }\n",
       "\n",
       "    .dataframe tbody tr th {\n",
       "        vertical-align: top;\n",
       "    }\n",
       "\n",
       "    .dataframe thead th {\n",
       "        text-align: right;\n",
       "    }\n",
       "</style>\n",
       "<table border=\"1\" class=\"dataframe\">\n",
       "  <thead>\n",
       "    <tr style=\"text-align: right;\">\n",
       "      <th></th>\n",
       "      <th>IDADEMAE</th>\n",
       "      <th>regiao_imediata</th>\n",
       "    </tr>\n",
       "  </thead>\n",
       "  <tbody>\n",
       "    <tr>\n",
       "      <th>0</th>\n",
       "      <td>19</td>\n",
       "      <td>Cacoal</td>\n",
       "    </tr>\n",
       "    <tr>\n",
       "      <th>1</th>\n",
       "      <td>29</td>\n",
       "      <td>Cacoal</td>\n",
       "    </tr>\n",
       "    <tr>\n",
       "      <th>2</th>\n",
       "      <td>37</td>\n",
       "      <td>Cacoal</td>\n",
       "    </tr>\n",
       "    <tr>\n",
       "      <th>3</th>\n",
       "      <td>30</td>\n",
       "      <td>Cacoal</td>\n",
       "    </tr>\n",
       "    <tr>\n",
       "      <th>4</th>\n",
       "      <td>30</td>\n",
       "      <td>Cacoal</td>\n",
       "    </tr>\n",
       "    <tr>\n",
       "      <th>5</th>\n",
       "      <td>33</td>\n",
       "      <td>Cacoal</td>\n",
       "    </tr>\n",
       "    <tr>\n",
       "      <th>6</th>\n",
       "      <td>37</td>\n",
       "      <td>Cacoal</td>\n",
       "    </tr>\n",
       "    <tr>\n",
       "      <th>7</th>\n",
       "      <td>27</td>\n",
       "      <td>Cacoal</td>\n",
       "    </tr>\n",
       "    <tr>\n",
       "      <th>8</th>\n",
       "      <td>20</td>\n",
       "      <td>Cacoal</td>\n",
       "    </tr>\n",
       "    <tr>\n",
       "      <th>9</th>\n",
       "      <td>30</td>\n",
       "      <td>Cacoal</td>\n",
       "    </tr>\n",
       "  </tbody>\n",
       "</table>\n",
       "</div>"
      ],
      "text/plain": [
       "   IDADEMAE regiao_imediata\n",
       "0        19          Cacoal\n",
       "1        29          Cacoal\n",
       "2        37          Cacoal\n",
       "3        30          Cacoal\n",
       "4        30          Cacoal\n",
       "5        33          Cacoal\n",
       "6        37          Cacoal\n",
       "7        27          Cacoal\n",
       "8        20          Cacoal\n",
       "9        30          Cacoal"
      ]
     },
     "execution_count": 19,
     "metadata": {},
     "output_type": "execute_result"
    }
   ],
   "source": [
    "sinasc_5['regiao_imediata'] = sinasc_raw['munResNome'].map(imediatas)\n",
    "sinasc_5.head(10)"
   ]
  },
  {
   "cell_type": "code",
   "execution_count": 20,
   "metadata": {},
   "outputs": [
    {
     "data": {
      "text/plain": [
       "regiao_imediata\n",
       "Vilhena        26.417143\n",
       "Cacoal         26.347817\n",
       "Porto Velho    26.166303\n",
       "Ji-Paraná      26.094720\n",
       "Jaru           25.708853\n",
       "Ariquemes      25.459635\n",
       "Name: IDADEMAE, dtype: float64"
      ]
     },
     "execution_count": 20,
     "metadata": {},
     "output_type": "execute_result"
    }
   ],
   "source": [
    "media_idade_regiao = sinasc_5.groupby('regiao_imediata')['IDADEMAE'].mean().sort_values(ascending=False)\n",
    "media_idade_regiao"
   ]
  },
  {
   "cell_type": "code",
   "execution_count": 21,
   "metadata": {},
   "outputs": [
    {
     "data": {
      "image/png": "[encoded data removed]",
      "text/plain": [
       "<Figure size 1000x600 with 1 Axes>"
      ]
     },
     "metadata": {},
     "output_type": "display_data"
    }
   ],
   "source": [
    "plt.figure(figsize=(10, 6))\n",
    "media_idade_regiao.plot(kind='line')\n",
    "\n",
    "plt.title('Idade Média das Mães por Região Imediata em Rondônia')\n",
    "plt.xlabel('Região Imediata')\n",
    "plt.ylabel('Idade Média')\n",
    "plt.xticks(rotation=45, ha='right')\n",
    "plt.grid(axis='y')\n",
    "\n",
    "plt.show()"
   ]
  },
  {
   "cell_type": "markdown",
   "metadata": {
    "id": "yt-LIWxblTuF"
   },
   "source": [
    "### 5. Utilize a tabela do link abaixo e crie faixas utilizando o mapping e gere agrupamentos utilizando essas faixas como chave\n"
   ]
  },
  {
   "cell_type": "markdown",
   "metadata": {
    "id": "moZakjgIlTuF"
   },
   "source": [
    "### 5.1 IDH\n",
    "A - https://pt.wikipedia.org/wiki/Lista_de_munic%C3%ADpios_de_Rond%C3%B4nia_por_IDH-M\n"
   ]
  },
  {
   "cell_type": "code",
   "execution_count": 22,
   "metadata": {
    "id": "DaJk66_BlTuF"
   },
   "outputs": [
    {
     "data": {
      "text/html": [
       "<div>\n",
       "<style scoped>\n",
       "    .dataframe tbody tr th:only-of-type {\n",
       "        vertical-align: middle;\n",
       "    }\n",
       "\n",
       "    .dataframe tbody tr th {\n",
       "        vertical-align: top;\n",
       "    }\n",
       "\n",
       "    .dataframe thead th {\n",
       "        text-align: right;\n",
       "    }\n",
       "</style>\n",
       "<table border=\"1\" class=\"dataframe\">\n",
       "  <thead>\n",
       "    <tr style=\"text-align: right;\">\n",
       "      <th></th>\n",
       "      <th>munResNome</th>\n",
       "    </tr>\n",
       "  </thead>\n",
       "  <tbody>\n",
       "    <tr>\n",
       "      <th>0</th>\n",
       "      <td>Alta Floresta D'Oeste</td>\n",
       "    </tr>\n",
       "    <tr>\n",
       "      <th>1</th>\n",
       "      <td>Alta Floresta D'Oeste</td>\n",
       "    </tr>\n",
       "    <tr>\n",
       "      <th>2</th>\n",
       "      <td>Alta Floresta D'Oeste</td>\n",
       "    </tr>\n",
       "    <tr>\n",
       "      <th>3</th>\n",
       "      <td>Alto Alegre dos Parecis</td>\n",
       "    </tr>\n",
       "    <tr>\n",
       "      <th>4</th>\n",
       "      <td>Alta Floresta D'Oeste</td>\n",
       "    </tr>\n",
       "    <tr>\n",
       "      <th>...</th>\n",
       "      <td>...</td>\n",
       "    </tr>\n",
       "    <tr>\n",
       "      <th>27023</th>\n",
       "      <td>Vilhena</td>\n",
       "    </tr>\n",
       "    <tr>\n",
       "      <th>27024</th>\n",
       "      <td>Chupinguaia</td>\n",
       "    </tr>\n",
       "    <tr>\n",
       "      <th>27025</th>\n",
       "      <td>Vilhena</td>\n",
       "    </tr>\n",
       "    <tr>\n",
       "      <th>27026</th>\n",
       "      <td>Vilhena</td>\n",
       "    </tr>\n",
       "    <tr>\n",
       "      <th>27027</th>\n",
       "      <td>Novo Horizonte do Oeste</td>\n",
       "    </tr>\n",
       "  </tbody>\n",
       "</table>\n",
       "<p>27028 rows × 1 columns</p>\n",
       "</div>"
      ],
      "text/plain": [
       "                    munResNome\n",
       "0        Alta Floresta D'Oeste\n",
       "1        Alta Floresta D'Oeste\n",
       "2        Alta Floresta D'Oeste\n",
       "3      Alto Alegre dos Parecis\n",
       "4        Alta Floresta D'Oeste\n",
       "...                        ...\n",
       "27023                  Vilhena\n",
       "27024              Chupinguaia\n",
       "27025                  Vilhena\n",
       "27026                  Vilhena\n",
       "27027  Novo Horizonte do Oeste\n",
       "\n",
       "[27028 rows x 1 columns]"
      ]
     },
     "execution_count": 22,
     "metadata": {},
     "output_type": "execute_result"
    }
   ],
   "source": [
    "sinasc_raw[['munResNome']]"
   ]
  },
  {
   "cell_type": "code",
   "execution_count": 23,
   "metadata": {},
   "outputs": [
    {
     "name": "stderr",
     "output_type": "stream",
     "text": [
      "C:\\Users\\bruna\\AppData\\Local\\Temp\\ipykernel_27048\\160587544.py:14: SettingWithCopyWarning: \n",
      "A value is trying to be set on a copy of a slice from a DataFrame.\n",
      "Try using .loc[row_indexer,col_indexer] = value instead\n",
      "\n",
      "See the caveats in the documentation: https://pandas.pydata.org/pandas-docs/stable/user_guide/indexing.html#returning-a-view-versus-a-copy\n",
      "  municipios['IDH'] = municipios['munResNome'].map(idh)\n"
     ]
    },
    {
     "data": {
      "text/html": [
       "<div>\n",
       "<style scoped>\n",
       "    .dataframe tbody tr th:only-of-type {\n",
       "        vertical-align: middle;\n",
       "    }\n",
       "\n",
       "    .dataframe tbody tr th {\n",
       "        vertical-align: top;\n",
       "    }\n",
       "\n",
       "    .dataframe thead th {\n",
       "        text-align: right;\n",
       "    }\n",
       "</style>\n",
       "<table border=\"1\" class=\"dataframe\">\n",
       "  <thead>\n",
       "    <tr style=\"text-align: right;\">\n",
       "      <th></th>\n",
       "      <th>IDH</th>\n",
       "      <th>Contagem</th>\n",
       "    </tr>\n",
       "  </thead>\n",
       "  <tbody>\n",
       "    <tr>\n",
       "      <th>0</th>\n",
       "      <td>IDH alto</td>\n",
       "      <td>8437</td>\n",
       "    </tr>\n",
       "    <tr>\n",
       "      <th>1</th>\n",
       "      <td>IDH baixo</td>\n",
       "      <td>1374</td>\n",
       "    </tr>\n",
       "    <tr>\n",
       "      <th>2</th>\n",
       "      <td>IDH médio</td>\n",
       "      <td>1590</td>\n",
       "    </tr>\n",
       "  </tbody>\n",
       "</table>\n",
       "</div>"
      ],
      "text/plain": [
       "         IDH  Contagem\n",
       "0   IDH alto      8437\n",
       "1  IDH baixo      1374\n",
       "2  IDH médio      1590"
      ]
     },
     "execution_count": 23,
     "metadata": {},
     "output_type": "execute_result"
    }
   ],
   "source": [
    "import pandas as pd\n",
    "\n",
    "# Criar um DataFrame com os nomes dos municípios\n",
    "municipios = sinasc_raw[['munResNome']]\n",
    "\n",
    "# Criar um dicionário com os valores de IDH\n",
    "idh = {\n",
    "    \"Porto Velho\": \"IDH alto\",\n",
    "    \"Vilhena\": \"IDH médio\",\n",
    "    \"Cacoal\": \"IDH baixo\"\n",
    "}\n",
    "\n",
    "# Mapear os valores de IDH para cada município\n",
    "municipios['IDH'] = municipios['munResNome'].map(idh)\n",
    "\n",
    "# Agrupar os municípios pelo valor de IDH e contar as ocorrências\n",
    "agrupado_idh = municipios.groupby('IDH')['munResNome'].count().reset_index()\n",
    "\n",
    "# Renomear a coluna para 'Contagem'\n",
    "agrupado_idh.columns = ['IDH', 'Contagem']\n",
    "\n",
    "# Exibir o resultado agrupado\n",
    "agrupado_idh"
   ]
  },
  {
   "cell_type": "code",
   "execution_count": 24,
   "metadata": {},
   "outputs": [
    {
     "data": {
      "text/html": [
       "<div>\n",
       "<style scoped>\n",
       "    .dataframe tbody tr th:only-of-type {\n",
       "        vertical-align: middle;\n",
       "    }\n",
       "\n",
       "    .dataframe tbody tr th {\n",
       "        vertical-align: top;\n",
       "    }\n",
       "\n",
       "    .dataframe thead th {\n",
       "        text-align: right;\n",
       "    }\n",
       "</style>\n",
       "<table border=\"1\" class=\"dataframe\">\n",
       "  <thead>\n",
       "    <tr style=\"text-align: right;\">\n",
       "      <th></th>\n",
       "      <th>Total de incidências</th>\n",
       "    </tr>\n",
       "    <tr>\n",
       "      <th>IDH</th>\n",
       "      <th></th>\n",
       "    </tr>\n",
       "  </thead>\n",
       "  <tbody>\n",
       "    <tr>\n",
       "      <th>IDH alto</th>\n",
       "      <td>16855</td>\n",
       "    </tr>\n",
       "    <tr>\n",
       "      <th>IDH baixo</th>\n",
       "      <td>1048</td>\n",
       "    </tr>\n",
       "    <tr>\n",
       "      <th>IDH médio</th>\n",
       "      <td>6728</td>\n",
       "    </tr>\n",
       "  </tbody>\n",
       "</table>\n",
       "</div>"
      ],
      "text/plain": [
       "           Total de incidências\n",
       "IDH                            \n",
       "IDH alto                  16855\n",
       "IDH baixo                  1048\n",
       "IDH médio                  6728"
      ]
     },
     "execution_count": 24,
     "metadata": {},
     "output_type": "execute_result"
    }
   ],
   "source": [
    "sinasc_5 = sinasc_raw[['munResNome']]\n",
    "\n",
    "# Dicionário com os valores de IDH\n",
    "idh = {\n",
    "    #grupo alto\n",
    "    \"Porto Velho\":\"IDH alto\",\n",
    "    \"Vilhena\":\"IDH alto\",\n",
    "    \"Cacoal\":\"IDH alto\",\n",
    "    \"Ji-Paraná\":\"IDH alto\",\n",
    "    \"Pimenta Bueno\":\"IDH alto\",\n",
    "    \"Ariquemes\":\"IDH alto\",\n",
    "    \"Rolim de Moura\":\"IDH alto\",\n",
    "\n",
    "    #grupo médio\n",
    "    \"Cerejeiras\":\"IDH médio\",\n",
    "    \"Jaru\":\"IDH médio\",\n",
    "    \"Colorado do Oeste\":\"IDH médio\",\n",
    "    \"Ouro Preto do Oeste\":\"IDH médio\",\n",
    "    \"Espigão d'Oeste\":\"IDH médio\",\n",
    "    \"Santa Luzia d'Oeste\":\"IDH médio\",\n",
    "    \"Pimenteiras do Oeste\":\"IDH médio\",\n",
    "    \"Presidente Médici\":\"IDH médio\",\n",
    "    \"Castanheiras\":\"IDH médio\",\n",
    "    \"Guajará-Mirim\":\"IDH médio\",\n",
    "    \"Chupinguaia\":\"IDH médio\",\n",
    "    \"Cabixi\":\"IDH médio\",\n",
    "    \"Candeias do Jamari\":\"IDH médio\",\n",
    "    \"São Felipe d'Oeste\":\"IDH médio\",\n",
    "    \"Cacaulândia\":\"IDH médio\",\n",
    "    \"São Miguel do Guaporé\":\"IDH médio\",\n",
    "    \"Mirante da Serra\":\"IDH médio\",\n",
    "    \"Alvorada d'Oeste\":\"IDH médio\",\n",
    "    \"Teixeirópolis\":\"IDH médio\",\n",
    "    \"Nova Brasilândia d'Oeste\":\"IDH médio\",\n",
    "    \"Rio Crespo\":\"IDH médio\",\n",
    "    \"Primavera de Rondônia\":\"IDH médio\",\n",
    "    \"Alta Floresta d'Oeste\":\"IDH médio\",\n",
    "    \"Ministro\":\"IDH médio\",\n",
    "    \"Andreazza\":\"IDH médio\",\n",
    "    \"Novo Horizonte do Oeste:\":\"IDH médio\",\n",
    "    \"Vale do Paraíso\":\"IDH médio\",\n",
    "    \"Alto Paraíso\":\"IDH médio\",\n",
    "    \"Parecis\":\"IDH médio\",\n",
    "    \"Buritis\":\"IDH médio\",\n",
    "    \"Itapuã do Oeste\":\"IDH médio\",\n",
    "    \"Corumbiara\":\"IDH médio\",\n",
    "    \"Cujubim\":\"IDH médio\",\n",
    "    \"Costa Marques\":\"IDH médio\",\n",
    "    \"São Francisco do Guaporé\":\"IDH médio\",\n",
    "    \"Urupá\":\"IDH médio\",\n",
    "    \"Monte Negro\":\"IDH médio\",\n",
    "\n",
    "    #grupo baixo\n",
    "    \"Seringueiras\":\"IDH baixo\",\n",
    "    \"Governador\":\"IDH baixo\",\n",
    "    \"Jorge Teixeira\":\"IDH baixo\",\n",
    "    \"Machadinho d'Oeste\":\"IDH baixo\",\n",
    "    \"Campo Novo de\":\"IDH baixo\",\n",
    "    \"Rondônia\":\"IDH baixo\",\n",
    "    \"Alto Alegre dos Parecis\":\"IDH baixo\",\n",
    "    \"Theobroma\":\"IDH baixo\",\n",
    "    \"Nova União\":\"IDH baixo\",\n",
    "    \"Nova Mamoré\":\"IDH baixo\",\n",
    "    \"Vale do Anari\":\"IDH baixo\",\n",
    "}\n",
    "\n",
    "# Criar um novo DataFrame com munResNome como índice\n",
    "tabela_idh = sinasc_5.set_index('munResNome')\n",
    "\n",
    "# Adicionar a nova coluna 'IDH' mapeando os valores do dicionário\n",
    "tabela_idh['IDH'] = tabela_idh.index.map(idh)\n",
    "\n",
    "# Remover valores NaN\n",
    "tabela_idh = tabela_idh.dropna(subset=['IDH'])\n",
    "\n",
    "# Agrupar os dados pelo valor de IDH e contar\n",
    "contagem_idh = tabela_idh['IDH'].value_counts().reset_index()\n",
    "\n",
    "# Renomear as colunas para a tabela final\n",
    "contagem_idh.columns = ['IDH','Total de incidências']\n",
    "\n",
    "# Exibir a tabela final\n",
    "contagem_idh.groupby('IDH').sum()\n",
    "\n",
    "# Explicação: No resultado abaixo é apresentado quantas vezes os municipios acima aparecem no dataframe Sinasc_RO_2019."
   ]
  },
  {
   "cell_type": "markdown",
   "metadata": {
    "id": "zhtI6CxtlTuH"
   },
   "source": [
    "### 5.2 IFDM\n",
    "B - https://pt.wikipedia.org/wiki/Lista_de_munic%C3%ADpios_de_Rond%C3%B4nia_por_IFDM\n"
   ]
  },
  {
   "cell_type": "code",
   "execution_count": 25,
   "metadata": {
    "id": "1AVkd1M3lTuI"
   },
   "outputs": [
    {
     "data": {
      "text/html": [
       "<div>\n",
       "<style scoped>\n",
       "    .dataframe tbody tr th:only-of-type {\n",
       "        vertical-align: middle;\n",
       "    }\n",
       "\n",
       "    .dataframe tbody tr th {\n",
       "        vertical-align: top;\n",
       "    }\n",
       "\n",
       "    .dataframe thead th {\n",
       "        text-align: right;\n",
       "    }\n",
       "</style>\n",
       "<table border=\"1\" class=\"dataframe\">\n",
       "  <thead>\n",
       "    <tr style=\"text-align: right;\">\n",
       "      <th></th>\n",
       "      <th>Contagem</th>\n",
       "    </tr>\n",
       "    <tr>\n",
       "      <th>IDFM</th>\n",
       "      <th></th>\n",
       "    </tr>\n",
       "  </thead>\n",
       "  <tbody>\n",
       "    <tr>\n",
       "      <th>Moderado</th>\n",
       "      <td>21426</td>\n",
       "    </tr>\n",
       "    <tr>\n",
       "      <th>Regular</th>\n",
       "      <td>3665</td>\n",
       "    </tr>\n",
       "  </tbody>\n",
       "</table>\n",
       "</div>"
      ],
      "text/plain": [
       "          Contagem\n",
       "IDFM              \n",
       "Moderado     21426\n",
       "Regular       3665"
      ]
     },
     "execution_count": 25,
     "metadata": {},
     "output_type": "execute_result"
    }
   ],
   "source": [
    "sinasc_6 = sinasc_raw[['munResNome']]\n",
    "\n",
    "idfm = {\n",
    "    #IDF moderado\n",
    "    \"Ariquemes\":\"Moderado\",\n",
    "    \"Vilhena\":\"Moderado\",\n",
    "    \"Pimenta Bueno\":\"Moderado\",\n",
    "    \"Porto Velho\":\"Moderado\",\n",
    "    \"Ji-Paraná\":\"Moderado\",\n",
    "    \"Cacoal\":\"Moderado\",\n",
    "    \"Santa Luzia d'Oeste\":\"Moderado\",\n",
    "    \"Rolim de Moura\":\"Moderado\",\n",
    "    \"Chupinguaia\":\"Moderado\",\n",
    "    \"São Miguel do Guaporé\":\"Moderado\",\n",
    "    \"Pimenteiras do Oeste\":\"Moderado\",\n",
    "    \"Teixeirópolis\":\"Moderado\",\n",
    "    \"Colorado do Oeste\":\"Moderado\",\n",
    "    \"Jaru\":\"Moderado\",\n",
    "    \"Rio Crespo\":\"Moderado\",\n",
    "    \"Primavera de Rondônia\":\"Moderado\",\n",
    "    \"Alta Floresta d'Oeste\":\"Moderado\",\n",
    "    \"Ouro Preto do Oeste\":\"Moderado\",\n",
    "    \"São Francisco do Guaporé\":\"Moderado\",\n",
    "    \"Candeias do Jamari\":\"Moderado\",\n",
    "    \"Buritis\":\"Moderado\",\n",
    "    \"São Felipe d'Oeste\":\"Moderado\",\n",
    "    \"Presidente Médici\":\"Moderado\",\n",
    "    \"Cerejeiras\":\"Moderado\",\n",
    "    \"Monte Negro\":\"Moderado\",\n",
    "    \"Urupá\":\"Moderado\",\n",
    "\n",
    "    #IDF regular\n",
    "    \"Espigão d'Oeste\":\"Regular\",\n",
    "    \"Seringueiras\":\"Regular\",\n",
    "    \"Alvorada d'Oeste\":\"Regular\",\n",
    "    \"Itapuã do Oeste\":\"Regular\",\n",
    "    \"Cabixi\":\"Regular\",\n",
    "    \"Novo Horizonte do Oeste\":\"Regular\",\n",
    "    \"Nova Brasilândia d'Oeste\":\"Regular\",\n",
    "    \"Vale do Paraíso\":\"Regular\",\n",
    "    \"Corumbiara\":\"Regular\",\n",
    "    \"Alto Paraíso\":\"Regular\",\n",
    "    \"Cacaulândia\":\"Regular\",\n",
    "    \"Vale do Anari\":\"Regular\",\n",
    "    \"Ministro Andreazza\":\"Regular\",\n",
    "    \"Costa Marques\":\"Regular\",\n",
    "    \"Nova União\":\"Regular\",\n",
    "    \"Guajará-Mirim\":\"Regular\",\n",
    "    \"Mirante da Serra\":\"Regular\",\n",
    "    \"Parecis\":\"Regular\",\n",
    "    \"Castanheiras\":\"Regular\",\n",
    "    \"Theobroma\":\"Regular\",\n",
    "    \"Machadinho d'Oeste\":\"Regular\",\n",
    "    \"Campo Novo de Rondônia\":\"Regular\",\n",
    "    \"Nova Mamoré\":\"Regular\",\n",
    "    \"Cujubim\":\"Regular\",\n",
    "    \"Alto Alegre dos Parecis\":\"Regular\",\n",
    "    \"Governador Jorge Teixeira\":\"Regular\",\n",
    "}\n",
    "\n",
    "tabela_idfm = sinasc_6.set_index('munResNome')\n",
    "\n",
    "tabela_idfm['IDFM'] = tabela_idfm.index.map(idfm)\n",
    "\n",
    "contagem_idfm = tabela_idfm['IDFM'].value_counts().reset_index()\n",
    "\n",
    "contagem_idfm.columns = ['IDFM', 'Contagem'] \n",
    "\n",
    "contagem_idfm.groupby('IDFM').sum()\n",
    "\n",
    "# Explicação: No resultado abaixo é apresentado quantas vezes os municipios acima aparecem no dataframe Sinasc_RO_2019."
   ]
  },
  {
   "cell_type": "markdown",
   "metadata": {
    "id": "BwdS46EWlTuI"
   },
   "source": [
    "### 5.3 PIB\n",
    "C - https://pt.wikipedia.org/wiki/Lista_de_munic%C3%ADpios_de_Rond%C3%B4nia_por_PIB\n"
   ]
  },
  {
   "cell_type": "markdown",
   "metadata": {
    "id": "bdWGW_xtlTuI"
   },
   "source": [
    "### Analise as respostas encontradas, tire algum insight delas, conte pra gente algo encontrado nos dados."
   ]
  },
  {
   "cell_type": "markdown",
   "metadata": {
    "id": "shZvokfBlTuI"
   },
   "source": [
    "Exemplo:\n",
    "- Ah, descobri que a idade mediana das mulheres que deram a luz no ano de 2019 dos municipios com o PIB mais alto é a maior dentre todas."
   ]
  },
  {
   "cell_type": "code",
   "execution_count": 26,
   "metadata": {
    "id": "f8P7BYYglTuJ"
   },
   "outputs": [
    {
     "data": {
      "text/html": [
       "<div>\n",
       "<style scoped>\n",
       "    .dataframe tbody tr th:only-of-type {\n",
       "        vertical-align: middle;\n",
       "    }\n",
       "\n",
       "    .dataframe tbody tr th {\n",
       "        vertical-align: top;\n",
       "    }\n",
       "\n",
       "    .dataframe thead th {\n",
       "        text-align: right;\n",
       "    }\n",
       "</style>\n",
       "<table border=\"1\" class=\"dataframe\">\n",
       "  <thead>\n",
       "    <tr style=\"text-align: right;\">\n",
       "      <th></th>\n",
       "      <th>Total de incidências</th>\n",
       "    </tr>\n",
       "    <tr>\n",
       "      <th>IDH</th>\n",
       "      <th></th>\n",
       "    </tr>\n",
       "  </thead>\n",
       "  <tbody>\n",
       "    <tr>\n",
       "      <th>IDH alto</th>\n",
       "      <td>16855</td>\n",
       "    </tr>\n",
       "    <tr>\n",
       "      <th>IDH baixo</th>\n",
       "      <td>1048</td>\n",
       "    </tr>\n",
       "    <tr>\n",
       "      <th>IDH médio</th>\n",
       "      <td>6728</td>\n",
       "    </tr>\n",
       "  </tbody>\n",
       "</table>\n",
       "</div>"
      ],
      "text/plain": [
       "           Total de incidências\n",
       "IDH                            \n",
       "IDH alto                  16855\n",
       "IDH baixo                  1048\n",
       "IDH médio                  6728"
      ]
     },
     "execution_count": 26,
     "metadata": {},
     "output_type": "execute_result"
    }
   ],
   "source": [
    "contagem_idh.groupby('IDH').sum()"
   ]
  },
  {
   "cell_type": "code",
   "execution_count": null,
   "metadata": {},
   "outputs": [],
   "source": []
  }
 ],
 "metadata": {
  "colab": {
   "provenance": []
  },
  "kernelspec": {
   "display_name": "Python [conda env:base] *",
   "language": "python",
   "name": "conda-base-py"
  },
  "language_info": {
   "codemirror_mode": {
    "name": "ipython",
    "version": 3
   },
   "file_extension": ".py",
   "mimetype": "text/x-python",
   "name": "python",
   "nbconvert_exporter": "python",
   "pygments_lexer": "ipython3",
   "version": "3.12.7"
  },
  "varInspector": {
   "cols": {
    "lenName": 16,
    "lenType": 16,
    "lenVar": 40
   },
   "kernels_config": {
    "python": {
     "delete_cmd_postfix": "",
     "delete_cmd_prefix": "del ",
     "library": "var_list.py",
     "varRefreshCmd": "print(var_dic_list())"
    },
    "r": {
     "delete_cmd_postfix": ") ",
     "delete_cmd_prefix": "rm(",
     "library": "var_list.r",
     "varRefreshCmd": "cat(var_dic_list()) "
    }
   },
   "types_to_exclude": [
    "module",
    "function",
    "builtin_function_or_method",
    "instance",
    "_Feature"
   ],
   "window_display": false
  }
 },
 "nbformat": 4,
 "nbformat_minor": 4
}
